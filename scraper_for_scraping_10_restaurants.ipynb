{
 "cells": [
  {
   "cell_type": "markdown",
   "id": "d049a7df",
   "metadata": {},
   "source": [
    "# #################################################################\n",
    "\n",
    "# A 10 restaurant scraper, with 5 required restaurants.\n",
    "\n",
    "# Have also made a scraper which scrapes data for n webpages, for a particular location.\n",
    "\n",
    "# Check other file.\n",
    "\n",
    "# #################################################################"
   ]
  },
  {
   "cell_type": "code",
   "execution_count": 2,
   "id": "9d9118f1",
   "metadata": {
    "scrolled": true
   },
   "outputs": [],
   "source": [
    "# Importing Libraries \n",
    "import requests\n",
    "from bs4 import BeautifulSoup\n",
    "import json\n",
    "import pandas as pd\n",
    "from itertools import chain\n",
    "import time\n",
    "\n",
    "# Lists for storing the required data\n",
    "# menu list will be a list of [name, description, price and logo]\n",
    "# example for 1 restaurant the menu items list will be -\n",
    "# [[name, description, price and logo], [name, description, price and logo],..]\n",
    "restaurant_name = []\n",
    "restaurant_logo = []\n",
    "latitude = []\n",
    "longitude = []\n",
    "cuisine_tags = []\n",
    "menu_items = []\n",
    "\n",
    "# List of links of 10 restaurants\n",
    "links = ['https://www.talabat.com/uae/restaurant/621133/ginos-deli-jlt?aid=1308',\n",
    "         'https://www.talabat.com/uae/restaurant/645430/pasta-della-nona-jlt-jumeirah-lakes-towers?aid=1308',\n",
    "         'https://www.talabat.com/uae/restaurant/50445/pizzaro-marina-3?aid=1308',\n",
    "         'https://www.talabat.com/uae/restaurant/605052/the-pasta-guyz-dubai-marina?aid=1308',\n",
    "         'https://www.talabat.com/uae/restaurant/621796/pizza-di-rocco-jumeirah-lakes-towers--jlt?aid=1308',\n",
    "         'https://www.talabat.com/uae/restaurant/641201/pasta-broz-dubai-marina?aid=1272',\n",
    "         'https://www.talabat.com/uae/restaurant/658231/jollof-house-al-barsha-3?aid=1272',\n",
    "         'https://www.talabat.com/uae/restaurant/674091/churros-cone-cafe-bluewaters-island?aid=1272',\n",
    "         'https://www.talabat.com/uae/restaurant/49587/layali-al-barsha-al-barsha-3?aid=1272',\n",
    "         'https://www.talabat.com/uae/restaurant/656480/the-good-dough-jumeirah-lakes-towers--jlt?aid=1272'\n",
    "        ]"
   ]
  },
  {
   "cell_type": "code",
   "execution_count": 3,
   "id": "55e6fa06",
   "metadata": {},
   "outputs": [
    {
     "name": "stdout",
     "output_type": "stream",
     "text": [
      "13.28261399269104 seconds\n"
     ]
    }
   ],
   "source": [
    "# To calculate time of execution\n",
    "start_time = time.time()\n",
    "\n",
    "# Loop for parsing required data from restaurant pages in links\n",
    "for i in range(0, len(links)):\n",
    "    \n",
    "    # Requesting individual restaurant webpages and loading soup\n",
    "    r = requests.get(links[i])\n",
    "    soup = BeautifulSoup(r.content,'html.parser')\n",
    "    \n",
    "    # Extracting data from script \n",
    "    scripts = soup.find('script', type='application/ld+json')\n",
    "    \n",
    "    # Loading to json for easy extraction\n",
    "    data = json.loads(scripts.text)\n",
    "    \n",
    "    # To check if the link is for a grocery store\n",
    "    if (data['@type'] != 'Restaurant'):\n",
    "        \n",
    "        continue\n",
    "        \n",
    "    # Extracting required data (name, logo, coords and tags)\n",
    "    restaurant_name.append( data['name'] )\n",
    "    restaurant_logo.append( data['image'] )\n",
    "    latitude.append( data['geo']['latitude'] )\n",
    "    longitude.append( data['geo']['longitude'] )\n",
    "    cuisine_tags.append( data['servesCuisine'] )\n",
    "    \n",
    "    # Extracting menu data from script\n",
    "    data_menu = soup.find('script', type = 'application/json')\n",
    "    \n",
    "    # Loading to json for easy extraction\n",
    "    data_menu = json.loads(data_menu.text)\n",
    "    \n",
    "    # Extracting required data\n",
    "    menu_list = data_menu['props']['pageProps']['initialMenuState']['menuData']['items']\n",
    "    \n",
    "    temp = []\n",
    "    \n",
    "    # Iterating over menu items to extract required data\n",
    "    for j in range(len(menu_list)):\n",
    "\n",
    "        temp.append(\n",
    "            \n",
    "            [menu_list[j]['name'], menu_list[j]['description'], \n",
    "             menu_list[j]['price'], menu_list[j]['image']]\n",
    "            \n",
    "        )\n",
    "        \n",
    "    menu_items.append(temp)\n",
    "    \n",
    "table = {\n",
    "    \n",
    "  \"restaurant_name\": restaurant_name,\n",
    "  \"restaurant_logo\": restaurant_logo,\n",
    "  \"latitude\": latitude,\n",
    "  \"longitude\": longitude,\n",
    "  \"cuisine_tags\": cuisine_tags,\n",
    "  \"menu_items\": menu_items\n",
    "\n",
    "}\n",
    "\n",
    "# time it took\n",
    "print(time.time() - start_time, 'seconds')"
   ]
  },
  {
   "cell_type": "code",
   "execution_count": 4,
   "id": "f18c6c7c",
   "metadata": {
    "scrolled": true
   },
   "outputs": [],
   "source": [
    "# Converting data to a pandas dataframe \n",
    "df = pd.DataFrame(table) \n",
    "\n",
    "# saving it to a csv file\n",
    "df.to_csv('10_restaurants.csv')"
   ]
  }
 ],
 "metadata": {
  "kernelspec": {
   "display_name": "Python 3 (ipykernel)",
   "language": "python",
   "name": "python3"
  },
  "language_info": {
   "codemirror_mode": {
    "name": "ipython",
    "version": 3
   },
   "file_extension": ".py",
   "mimetype": "text/x-python",
   "name": "python",
   "nbconvert_exporter": "python",
   "pygments_lexer": "ipython3",
   "version": "3.9.7"
  }
 },
 "nbformat": 4,
 "nbformat_minor": 5
}
